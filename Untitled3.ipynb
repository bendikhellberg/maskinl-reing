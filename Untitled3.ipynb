{
 "cells": [
  {
   "cell_type": "code",
   "execution_count": 11,
   "id": "f226c15a-046c-472b-be89-3de248dcb1a5",
   "metadata": {},
   "outputs": [],
   "source": [
    "import os\n",
    "import numpy as np\n",
    "import pandas as pd\n",
    "from scipy.stats import kurtosis, skew\n",
    "from tqdm import tqdm"
   ]
  },
  {
   "cell_type": "code",
   "execution_count": 12,
   "id": "a0513f4f-f13b-4dea-bb75-2b47f0394c80",
   "metadata": {},
   "outputs": [
    {
     "name": "stderr",
     "output_type": "stream",
     "text": [
      "Processing Test 1: 100%|████████████████████| 2156/2156 [04:26<00:00,  8.10it/s]\n"
     ]
    },
    {
     "name": "stdout",
     "output_type": "stream",
     "text": [
      "\n",
      "✅ Saved extracted features to: 1st_test_features.csv\n"
     ]
    }
   ],
   "source": [
    "\n",
    "# === 2. Feature extraction ===\n",
    "def extract_features(signal):\n",
    "    mean_val = np.mean(signal)\n",
    "    std_val = np.std(signal)\n",
    "    rms_val = np.sqrt(np.mean(signal**2))\n",
    "    kurt = kurtosis(signal)\n",
    "    skw = skew(signal)\n",
    "    max_val = np.max(signal)\n",
    "    p2p_val = np.ptp(signal)\n",
    "    crest = max_val / rms_val if rms_val != 0 else 0\n",
    "    return [mean_val, std_val, rms_val, kurt, skw, crest, max_val, p2p_val]\n",
    "\n",
    "# === 3. Channel mapping ===\n",
    "def get_channel_mapping(test_number):\n",
    "    if test_number == 1:\n",
    "        return {1: \"B1\", 2: \"B1\", 3: \"B2\", 4: \"B2\", 5: \"B3\", 6: \"B3\", 7: \"B4\", 8: \"B4\"}\n",
    "    elif test_number in [2, 3]:\n",
    "        return {1: \"B1\", 2: \"B2\", 3: \"B3\", 4: \"B4\"}\n",
    "    else:\n",
    "        raise ValueError(\"Invalid test number\")\n",
    "\n",
    "# === 4. Main processing function ===\n",
    "def process_test_data(test_folder, test_number, output_csv):\n",
    "    channel_map = get_channel_mapping(test_number)\n",
    "    feature_names = ['mean', 'std', 'rms', 'kurtosis', 'skewness', 'crest_factor', 'max', 'p2p']\n",
    "    data_rows = []\n",
    "\n",
    "    # List all files in the directory (ignoring subdirectories)\n",
    "    files = sorted([f for f in os.listdir(test_folder) if os.path.isfile(os.path.join(test_folder, f))])\n",
    "    for file in tqdm(files, desc=f\"Processing Test {test_number}\"):\n",
    "        file_path = os.path.join(test_folder, file)\n",
    "        try:\n",
    "            signal = np.loadtxt(file_path)\n",
    "        except Exception as e:\n",
    "            print(f\"Could not read {file}: {e}\")\n",
    "            continue\n",
    "\n",
    "        num_channels = len(channel_map)\n",
    "        signal = signal[:20480 * num_channels]  # Trim in case it's too long\n",
    "        signal = signal.reshape(-1, num_channels).T  # Shape: (channels, 20480)\n",
    "\n",
    "        for i, ch_data in enumerate(signal, start=1):\n",
    "            features = extract_features(ch_data)\n",
    "            data_rows.append([file, channel_map[i], i] + features)\n",
    "\n",
    "    df = pd.DataFrame(data_rows, columns=['file_name', 'bearing', 'channel'] + feature_names)\n",
    "    df.to_csv(output_csv, index=False)\n",
    "    print(f\"\\n✅ Saved extracted features to: {output_csv}\")\n",
    "\n",
    "# === 5. Run for 1st test ===\n",
    "process_test_data(\"./1st_test/1st_test\", test_number=1, output_csv=\"1st_test_features.csv\")"
   ]
  },
  {
   "cell_type": "code",
   "execution_count": 3,
   "id": "7731976a-8ae3-49dd-ac7e-67d676941001",
   "metadata": {},
   "outputs": [],
   "source": []
  },
  {
   "cell_type": "code",
   "execution_count": null,
   "id": "c622fb1c-e797-4fff-9e59-3490441fbcaf",
   "metadata": {},
   "outputs": [],
   "source": [
    "\n"
   ]
  },
  {
   "cell_type": "code",
   "execution_count": null,
   "id": "afaf1a0d-243c-479e-b396-787c64e9ac8b",
   "metadata": {},
   "outputs": [],
   "source": []
  },
  {
   "cell_type": "code",
   "execution_count": null,
   "id": "efd61b35-77c8-4862-9cdc-c63b683b95dd",
   "metadata": {},
   "outputs": [],
   "source": []
  }
 ],
 "metadata": {
  "kernelspec": {
   "display_name": "Python 3 (ipykernel)",
   "language": "python",
   "name": "python3"
  },
  "language_info": {
   "codemirror_mode": {
    "name": "ipython",
    "version": 3
   },
   "file_extension": ".py",
   "mimetype": "text/x-python",
   "name": "python",
   "nbconvert_exporter": "python",
   "pygments_lexer": "ipython3",
   "version": "3.8.8"
  }
 },
 "nbformat": 4,
 "nbformat_minor": 5
}
