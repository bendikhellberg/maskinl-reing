{
 "cells": [
  {
   "cell_type": "code",
   "execution_count": 1,
   "id": "ec757446-95dd-4b4f-a122-5e530279feeb",
   "metadata": {},
   "outputs": [],
   "source": [
    "import os\n",
    "import numpy as np\n",
    "import pandas as pd\n",
    "from scipy.stats import skew, kurtosis"
   ]
  },
  {
   "cell_type": "code",
   "execution_count": 11,
   "id": "dd40e306-7252-4736-bcbd-d4a81ec396d5",
   "metadata": {},
   "outputs": [
    {
     "name": "stdout",
     "output_type": "stream",
     "text": [
      "Advarsel: ./3rd_test/4th_test/txt/2004.03.04.09.27.46 har ikke 8 kolonner!\n"
     ]
    },
    {
     "ename": "ValueError",
     "evalue": "Length mismatch: Expected axis has 4 elements, new values have 8 elements",
     "output_type": "error",
     "traceback": [
      "\u001b[0;31m---------------------------------------------------------------------------\u001b[0m",
      "\u001b[0;31mValueError\u001b[0m                                Traceback (most recent call last)",
      "Cell \u001b[0;32mIn[11], line 76\u001b[0m\n\u001b[1;32m     73\u001b[0m dataset_path_1st \u001b[38;5;241m=\u001b[39m \u001b[38;5;124m'\u001b[39m\u001b[38;5;124m./3rd_test/4th_test/txt\u001b[39m\u001b[38;5;124m'\u001b[39m\n\u001b[1;32m     75\u001b[0m \u001b[38;5;66;03m# Kall process_directory med en mappe, ikke process_file\u001b[39;00m\n\u001b[0;32m---> 76\u001b[0m features_1st \u001b[38;5;241m=\u001b[39m \u001b[43mprocess_directory\u001b[49m\u001b[43m(\u001b[49m\u001b[43mdataset_path_1st\u001b[49m\u001b[43m)\u001b[49m\n\u001b[1;32m     77\u001b[0m \u001b[38;5;28mprint\u001b[39m(features_1st\u001b[38;5;241m.\u001b[39mhead())\n\u001b[1;32m     79\u001b[0m \u001b[38;5;66;03m# Lagre resultatet i CSV\u001b[39;00m\n",
      "Cell \u001b[0;32mIn[11], line 63\u001b[0m, in \u001b[0;36mprocess_directory\u001b[0;34m(dir_path)\u001b[0m\n\u001b[1;32m     61\u001b[0m     \u001b[38;5;28;01mif\u001b[39;00m file_name\u001b[38;5;241m.\u001b[39mstartswith(\u001b[38;5;124m\"\u001b[39m\u001b[38;5;124m2003\u001b[39m\u001b[38;5;124m\"\u001b[39m) \u001b[38;5;129;01mor\u001b[39;00m file_name\u001b[38;5;241m.\u001b[39mstartswith(\u001b[38;5;124m\"\u001b[39m\u001b[38;5;124m2004\u001b[39m\u001b[38;5;124m\"\u001b[39m):\n\u001b[1;32m     62\u001b[0m         file_path \u001b[38;5;241m=\u001b[39m os\u001b[38;5;241m.\u001b[39mpath\u001b[38;5;241m.\u001b[39mjoin(dir_path, file_name)\n\u001b[0;32m---> 63\u001b[0m         feats \u001b[38;5;241m=\u001b[39m \u001b[43mprocess_file\u001b[49m\u001b[43m(\u001b[49m\u001b[43mfile_path\u001b[49m\u001b[43m)\u001b[49m\n\u001b[1;32m     64\u001b[0m         all_features\u001b[38;5;241m.\u001b[39mappend(feats)\n\u001b[1;32m     66\u001b[0m \u001b[38;5;66;03m# Konverter liste av ordbøker til DataFrame\u001b[39;00m\n",
      "Cell \u001b[0;32mIn[11], line 35\u001b[0m, in \u001b[0;36mprocess_file\u001b[0;34m(file_path)\u001b[0m\n\u001b[1;32m     33\u001b[0m \u001b[38;5;66;03m# Gi kolonnene navn\u001b[39;00m\n\u001b[1;32m     34\u001b[0m col_names \u001b[38;5;241m=\u001b[39m [\u001b[38;5;124m\"\u001b[39m\u001b[38;5;124mB1_a\u001b[39m\u001b[38;5;124m\"\u001b[39m, \u001b[38;5;124m\"\u001b[39m\u001b[38;5;124mB1_b\u001b[39m\u001b[38;5;124m\"\u001b[39m, \u001b[38;5;124m\"\u001b[39m\u001b[38;5;124mB2_a\u001b[39m\u001b[38;5;124m\"\u001b[39m, \u001b[38;5;124m\"\u001b[39m\u001b[38;5;124mB2_b\u001b[39m\u001b[38;5;124m\"\u001b[39m, \u001b[38;5;124m\"\u001b[39m\u001b[38;5;124mB3_a\u001b[39m\u001b[38;5;124m\"\u001b[39m, \u001b[38;5;124m\"\u001b[39m\u001b[38;5;124mB3_b\u001b[39m\u001b[38;5;124m\"\u001b[39m, \u001b[38;5;124m\"\u001b[39m\u001b[38;5;124mB4_a\u001b[39m\u001b[38;5;124m\"\u001b[39m, \u001b[38;5;124m\"\u001b[39m\u001b[38;5;124mB4_b\u001b[39m\u001b[38;5;124m\"\u001b[39m]\n\u001b[0;32m---> 35\u001b[0m \u001b[43mdf\u001b[49m\u001b[38;5;241;43m.\u001b[39;49m\u001b[43mcolumns\u001b[49m \u001b[38;5;241m=\u001b[39m col_names\n\u001b[1;32m     37\u001b[0m \u001b[38;5;66;03m# Lagre features i en ordbok (én rad)\u001b[39;00m\n\u001b[1;32m     38\u001b[0m features \u001b[38;5;241m=\u001b[39m {}\n",
      "File \u001b[0;32m~/opt/anaconda3/lib/python3.8/site-packages/pandas/core/generic.py:5478\u001b[0m, in \u001b[0;36mNDFrame.__setattr__\u001b[0;34m(self, name, value)\u001b[0m\n\u001b[1;32m   5476\u001b[0m \u001b[38;5;28;01mtry\u001b[39;00m:\n\u001b[1;32m   5477\u001b[0m     \u001b[38;5;28mobject\u001b[39m\u001b[38;5;241m.\u001b[39m\u001b[38;5;21m__getattribute__\u001b[39m(\u001b[38;5;28mself\u001b[39m, name)\n\u001b[0;32m-> 5478\u001b[0m     \u001b[38;5;28;01mreturn\u001b[39;00m \u001b[38;5;28;43mobject\u001b[39;49m\u001b[38;5;241;43m.\u001b[39;49m\u001b[38;5;21;43m__setattr__\u001b[39;49m\u001b[43m(\u001b[49m\u001b[38;5;28;43mself\u001b[39;49m\u001b[43m,\u001b[49m\u001b[43m \u001b[49m\u001b[43mname\u001b[49m\u001b[43m,\u001b[49m\u001b[43m \u001b[49m\u001b[43mvalue\u001b[49m\u001b[43m)\u001b[49m\n\u001b[1;32m   5479\u001b[0m \u001b[38;5;28;01mexcept\u001b[39;00m \u001b[38;5;167;01mAttributeError\u001b[39;00m:\n\u001b[1;32m   5480\u001b[0m     \u001b[38;5;28;01mpass\u001b[39;00m\n",
      "File \u001b[0;32mpandas/_libs/properties.pyx:66\u001b[0m, in \u001b[0;36mpandas._libs.properties.AxisProperty.__set__\u001b[0;34m()\u001b[0m\n",
      "File \u001b[0;32m~/opt/anaconda3/lib/python3.8/site-packages/pandas/core/generic.py:670\u001b[0m, in \u001b[0;36mNDFrame._set_axis\u001b[0;34m(self, axis, labels)\u001b[0m\n\u001b[1;32m    668\u001b[0m \u001b[38;5;28;01mdef\u001b[39;00m \u001b[38;5;21m_set_axis\u001b[39m(\u001b[38;5;28mself\u001b[39m, axis: \u001b[38;5;28mint\u001b[39m, labels: Index) \u001b[38;5;241m-\u001b[39m\u001b[38;5;241m>\u001b[39m \u001b[38;5;28;01mNone\u001b[39;00m:\n\u001b[1;32m    669\u001b[0m     labels \u001b[38;5;241m=\u001b[39m ensure_index(labels)\n\u001b[0;32m--> 670\u001b[0m     \u001b[38;5;28;43mself\u001b[39;49m\u001b[38;5;241;43m.\u001b[39;49m\u001b[43m_mgr\u001b[49m\u001b[38;5;241;43m.\u001b[39;49m\u001b[43mset_axis\u001b[49m\u001b[43m(\u001b[49m\u001b[43maxis\u001b[49m\u001b[43m,\u001b[49m\u001b[43m \u001b[49m\u001b[43mlabels\u001b[49m\u001b[43m)\u001b[49m\n\u001b[1;32m    671\u001b[0m     \u001b[38;5;28mself\u001b[39m\u001b[38;5;241m.\u001b[39m_clear_item_cache()\n",
      "File \u001b[0;32m~/opt/anaconda3/lib/python3.8/site-packages/pandas/core/internals/managers.py:220\u001b[0m, in \u001b[0;36mBlockManager.set_axis\u001b[0;34m(self, axis, new_labels)\u001b[0m\n\u001b[1;32m    217\u001b[0m new_len \u001b[38;5;241m=\u001b[39m \u001b[38;5;28mlen\u001b[39m(new_labels)\n\u001b[1;32m    219\u001b[0m \u001b[38;5;28;01mif\u001b[39;00m new_len \u001b[38;5;241m!=\u001b[39m old_len:\n\u001b[0;32m--> 220\u001b[0m     \u001b[38;5;28;01mraise\u001b[39;00m \u001b[38;5;167;01mValueError\u001b[39;00m(\n\u001b[1;32m    221\u001b[0m         \u001b[38;5;124mf\u001b[39m\u001b[38;5;124m\"\u001b[39m\u001b[38;5;124mLength mismatch: Expected axis has \u001b[39m\u001b[38;5;132;01m{\u001b[39;00mold_len\u001b[38;5;132;01m}\u001b[39;00m\u001b[38;5;124m elements, new \u001b[39m\u001b[38;5;124m\"\u001b[39m\n\u001b[1;32m    222\u001b[0m         \u001b[38;5;124mf\u001b[39m\u001b[38;5;124m\"\u001b[39m\u001b[38;5;124mvalues have \u001b[39m\u001b[38;5;132;01m{\u001b[39;00mnew_len\u001b[38;5;132;01m}\u001b[39;00m\u001b[38;5;124m elements\u001b[39m\u001b[38;5;124m\"\u001b[39m\n\u001b[1;32m    223\u001b[0m     )\n\u001b[1;32m    225\u001b[0m \u001b[38;5;28mself\u001b[39m\u001b[38;5;241m.\u001b[39maxes[axis] \u001b[38;5;241m=\u001b[39m new_labels\n",
      "\u001b[0;31mValueError\u001b[0m: Length mismatch: Expected axis has 4 elements, new values have 8 elements"
     ]
    }
   ],
   "source": [
    "import os\n",
    "import numpy as np\n",
    "import pandas as pd\n",
    "from scipy.stats import skew, kurtosis\n",
    "\n",
    "def compute_entropy(signal, bins=50):\n",
    "    hist, _ = np.histogram(signal, bins=bins, density=True)\n",
    "    hist = hist[hist > 0]  # Fjern nuller for å unngå log(0)\n",
    "    return -np.sum(hist * np.log2(hist))\n",
    "\n",
    "def extract_channel_features(signal):\n",
    "    feats = {}\n",
    "    feats['mean'] = np.mean(signal)\n",
    "    feats['std'] = np.std(signal)\n",
    "    feats['skew'] = skew(signal)\n",
    "    feats['kurtosis'] = kurtosis(signal)\n",
    "    feats['entropy'] = compute_entropy(signal)\n",
    "    feats['rms'] = np.sqrt(np.mean(signal**2))\n",
    "    feats['max'] = np.max(signal)\n",
    "    feats['p2p'] = np.ptp(signal)  # peak-to-peak\n",
    "    return feats\n",
    "\n",
    "def process_file(file_path):\n",
    "    \"\"\"\n",
    "    Leser én fil (f.eks. '1st_test/1st_test/2003.10.22.12.06.24').\n",
    "    For 1st_test antar vi at filen har 8 kolonner:\n",
    "    B1_a, B1_b, B2_a, B2_b, B3_a, B3_b, B4_a, B4_b.\n",
    "    \"\"\"\n",
    "    df = pd.read_csv(file_path, header=None, delim_whitespace=True)\n",
    "    if df.shape[1] < 8:\n",
    "        print(f\"Advarsel: {file_path} har ikke 8 kolonner!\")\n",
    "\n",
    "    # Gi kolonnene navn\n",
    "    col_names = [\"B1_a\", \"B1_b\", \"B2_a\", \"B2_b\", \"B3_a\", \"B3_b\", \"B4_a\", \"B4_b\"]\n",
    "    df.columns = col_names\n",
    "\n",
    "    # Lagre features i en ordbok (én rad)\n",
    "    features = {}\n",
    "    file_name = os.path.basename(file_path)  # F.eks. \"2003.10.22.12.06.24\"\n",
    "    features['timestamp'] = file_name\n",
    "\n",
    "    # Ekstraher features for hver kolonne\n",
    "    for col in col_names:\n",
    "        signal = df[col].values\n",
    "        channel_feats = extract_channel_features(signal)\n",
    "        for feat_name, val in channel_feats.items():\n",
    "            features[f\"{col}_{feat_name}\"] = val\n",
    "\n",
    "    return features\n",
    "\n",
    "def process_directory(dir_path):\n",
    "    \"\"\"\n",
    "    Leser alle filer i dir_path som starter med '2003' eller '2004',\n",
    "    og returnerer en DataFrame med én rad per fil.\n",
    "    \"\"\"\n",
    "    all_features = []\n",
    "    file_list = sorted(os.listdir(dir_path))\n",
    "\n",
    "    for file_name in file_list:\n",
    "        # IMS-filer i 1st_test heter ofte \"2003.10.22.12.06.24\" osv.\n",
    "        if file_name.startswith(\"2003\") or file_name.startswith(\"2004\"):\n",
    "            file_path = os.path.join(dir_path, file_name)\n",
    "            feats = process_file(file_path)\n",
    "            all_features.append(feats)\n",
    "\n",
    "    # Konverter liste av ordbøker til DataFrame\n",
    "    return pd.DataFrame(all_features)\n",
    "\n",
    "# ---------------------------------------------------\n",
    "# EKSEMPEL: Behandle hele mappen 1st_test/1st_test\n",
    "# ---------------------------------------------------\n",
    "\n",
    "dataset_path_1st = './3rd_test/4th_test/txt'\n",
    "\n",
    "# Kall process_directory med en mappe, ikke process_file\n",
    "features_1st = process_directory(dataset_path_1st)\n",
    "print(features_1st.head())\n",
    "\n",
    "# Lagre resultatet i CSV\n",
    "features_1st.to_csv(\"3rd_test_withfeatures.csv\", index=False)\n",
    "print(\"Ferdig! Filen '3rd_test_withfeatures.csv' er opprettet.\")"
   ]
  },
  {
   "cell_type": "code",
   "execution_count": 3,
   "id": "e85b2119-10f8-40f1-af57-cfb575a92c7c",
   "metadata": {},
   "outputs": [],
   "source": []
  },
  {
   "cell_type": "code",
   "execution_count": null,
   "id": "b378536e-4598-4bf6-ae6b-8e912cca77e9",
   "metadata": {},
   "outputs": [],
   "source": []
  },
  {
   "cell_type": "code",
   "execution_count": null,
   "id": "92681872-8fd3-4dbe-a581-b6ca3cdc006a",
   "metadata": {},
   "outputs": [],
   "source": []
  }
 ],
 "metadata": {
  "kernelspec": {
   "display_name": "Python 3 (ipykernel)",
   "language": "python",
   "name": "python3"
  },
  "language_info": {
   "codemirror_mode": {
    "name": "ipython",
    "version": 3
   },
   "file_extension": ".py",
   "mimetype": "text/x-python",
   "name": "python",
   "nbconvert_exporter": "python",
   "pygments_lexer": "ipython3",
   "version": "3.8.8"
  }
 },
 "nbformat": 4,
 "nbformat_minor": 5
}
