{
 "cells": [
  {
   "cell_type": "code",
   "execution_count": 1,
   "id": "6793436d-51e5-44d8-b047-b3e5909d132e",
   "metadata": {},
   "outputs": [
    {
     "ename": "NameError",
     "evalue": "name 'features_1st' is not defined",
     "output_type": "error",
     "traceback": [
      "\u001b[0;31m---------------------------------------------------------------------------\u001b[0m",
      "\u001b[0;31mNameError\u001b[0m                                 Traceback (most recent call last)",
      "Cell \u001b[0;32mIn[1], line 10\u001b[0m\n\u001b[1;32m      7\u001b[0m \u001b[38;5;28;01mfrom\u001b[39;00m \u001b[38;5;21;01mtqdm\u001b[39;00m \u001b[38;5;28;01mimport\u001b[39;00m tqdm\n\u001b[1;32m      9\u001b[0m \u001b[38;5;66;03m# Step 1: Merge all features from different tests\u001b[39;00m\n\u001b[0;32m---> 10\u001b[0m \u001b[43mfeatures_1st\u001b[49m[\u001b[38;5;124m'\u001b[39m\u001b[38;5;124mtest_set\u001b[39m\u001b[38;5;124m'\u001b[39m] \u001b[38;5;241m=\u001b[39m \u001b[38;5;124m'\u001b[39m\u001b[38;5;124m1st\u001b[39m\u001b[38;5;124m'\u001b[39m\n\u001b[1;32m     11\u001b[0m features_2nd[\u001b[38;5;124m'\u001b[39m\u001b[38;5;124mtest_set\u001b[39m\u001b[38;5;124m'\u001b[39m] \u001b[38;5;241m=\u001b[39m \u001b[38;5;124m'\u001b[39m\u001b[38;5;124m2nd\u001b[39m\u001b[38;5;124m'\u001b[39m\n\u001b[1;32m     12\u001b[0m features_3rd[\u001b[38;5;124m'\u001b[39m\u001b[38;5;124mtest_set\u001b[39m\u001b[38;5;124m'\u001b[39m] \u001b[38;5;241m=\u001b[39m \u001b[38;5;124m'\u001b[39m\u001b[38;5;124m3rd\u001b[39m\u001b[38;5;124m'\u001b[39m\n",
      "\u001b[0;31mNameError\u001b[0m: name 'features_1st' is not defined"
     ]
    }
   ],
   "source": [
    "import pandas as pd\n",
    "import numpy as np\n",
    "from sklearn.model_selection import train_test_split\n",
    "from sklearn.preprocessing import StandardScaler\n",
    "from sklearn.ensemble import RandomForestRegressor\n",
    "from sklearn.metrics import mean_squared_error, mean_absolute_error\n",
    "from tqdm import tqdm\n",
    "\n",
    "# Step 1: Merge all features from different tests\n",
    "features_1st['test_set'] = '1st'\n",
    "features_2nd['test_set'] = '2nd'\n",
    "features_3rd['test_set'] = '3rd'\n",
    "\n",
    "all_features = pd.concat([features_1st, features_2nd, features_3rd], ignore_index=True)\n",
    "\n",
    "# Step 2: Create RUL labels based on the timestamp and the order of the measurements\n",
    "def add_rul(df, test_set_name):\n",
    "    subset = df[df['test_set'] == test_set_name].copy()\n",
    "    subset = subset.sort_values('timestamp')  # Ensure proper time order\n",
    "    n = len(subset)\n",
    "    subset['RUL'] = np.linspace(n-1, 0, n)  # RUL = (number of files - current index)\n",
    "    return subset\n",
    "\n",
    "# Apply RUL labeling\n",
    "all_features = pd.concat([\n",
    "    add_rul(all_features, '1st'),\n",
    "    add_rul(all_features, '2nd'),\n",
    "    add_rul(all_features, '3rd')\n",
    "], ignore_index=True)\n",
    "\n",
    "# Step 3: Preprocess the data\n",
    "# Drop non-feature columns like timestamp, test_set\n",
    "X = all_features.drop(columns=['timestamp', 'test_set', 'RUL'])\n",
    "y = all_features['RUL']\n",
    "\n",
    "# Scale features\n",
    "scaler = StandardScaler()\n",
    "X_scaled = scaler.fit_transform(X)\n",
    "\n",
    "# Step 4: Split the data into training and testing sets\n",
    "X_train, X_test, y_train, y_test = train_test_split(X_scaled, y, test_size=0.2, random_state=42)\n",
    "\n",
    "# Step 5: Train a model (Random Forest Regressor example)\n",
    "rf = RandomForestRegressor(n_estimators=100, random_state=42)\n",
    "rf.fit(X_train, y_train)\n",
    "\n",
    "# Step 6: Evaluate the model\n",
    "y_pred = rf.predict(X_test)\n",
    "rmse = np.sqrt(mean_squared_error(y_test, y_pred))\n",
    "mae = mean_absolute_error(y_test, y_pred)\n",
    "print(f\"RMSE: {rmse:.2f}, MAE: {mae:.2f}\")"
   ]
  },
  {
   "cell_type": "code",
   "execution_count": null,
   "id": "6f3e7a74-41b9-4801-a940-60bb1df569df",
   "metadata": {},
   "outputs": [],
   "source": []
  }
 ],
 "metadata": {
  "kernelspec": {
   "display_name": "Python 3 (ipykernel)",
   "language": "python",
   "name": "python3"
  },
  "language_info": {
   "codemirror_mode": {
    "name": "ipython",
    "version": 3
   },
   "file_extension": ".py",
   "mimetype": "text/x-python",
   "name": "python",
   "nbconvert_exporter": "python",
   "pygments_lexer": "ipython3",
   "version": "3.8.8"
  }
 },
 "nbformat": 4,
 "nbformat_minor": 5
}
