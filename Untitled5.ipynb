{
 "cells": [
  {
   "cell_type": "code",
   "execution_count": 1,
   "id": "54f02db8-f335-4842-8c73-d66b292b684b",
   "metadata": {},
   "outputs": [
    {
     "name": "stdout",
     "output_type": "stream",
     "text": [
      "✅ Ferdig! Lagret som '3rd_test_features.csv'\n"
     ]
    }
   ],
   "source": [
    "import os\n",
    "import numpy as np\n",
    "import pandas as pd\n",
    "from scipy.stats import skew, kurtosis\n",
    "\n",
    "def compute_entropy(signal, bins=50):\n",
    "    hist, _ = np.histogram(signal, bins=bins, density=True)\n",
    "    hist = hist[hist > 0]\n",
    "    return -np.sum(hist * np.log2(hist))\n",
    "\n",
    "def extract_channel_features(signal):\n",
    "    feats = {}\n",
    "    feats['mean'] = np.mean(signal)\n",
    "    feats['std'] = np.std(signal)\n",
    "    feats['skew'] = skew(signal)\n",
    "    feats['kurtosis'] = kurtosis(signal)\n",
    "    feats['entropy'] = compute_entropy(signal)\n",
    "    feats['rms'] = np.sqrt(np.mean(signal**2))\n",
    "    feats['max'] = np.max(signal)\n",
    "    feats['p2p'] = np.ptp(signal)  # peak-to-peak\n",
    "    return feats\n",
    "\n",
    "def process_file(file_path):\n",
    "    df = pd.read_csv(file_path, header=None, delim_whitespace=True)\n",
    "    if df.shape[1] != 4:\n",
    "        print(f\"Advarsel: {file_path} har ikke 4 kolonner! Skipping.\")\n",
    "        return None\n",
    "\n",
    "    col_names = [\"B1\", \"B2\", \"B3\", \"B4\"]\n",
    "    df.columns = col_names\n",
    "\n",
    "    features = {}\n",
    "    file_name = os.path.basename(file_path)\n",
    "    features['timestamp'] = file_name\n",
    "\n",
    "    for col in col_names:\n",
    "        signal = df[col].values\n",
    "        channel_feats = extract_channel_features(signal)\n",
    "        for feat_name, val in channel_feats.items():\n",
    "            features[f\"{col}_{feat_name}\"] = val\n",
    "\n",
    "    return features\n",
    "\n",
    "def process_directory(dir_path):\n",
    "    all_features = []\n",
    "    file_list = sorted(os.listdir(dir_path))\n",
    "\n",
    "    for file_name in file_list:\n",
    "        if file_name.startswith(\"2004\"):\n",
    "            file_path = os.path.join(dir_path, file_name)\n",
    "            feats = process_file(file_path)\n",
    "            if feats:\n",
    "                all_features.append(feats)\n",
    "\n",
    "    return pd.DataFrame(all_features)\n",
    "\n",
    "# ---------------------------------------------------\n",
    "# Endre denne stien til riktig mappe på din maskin:\n",
    "# ---------------------------------------------------\n",
    "dataset_path_3rd = \"./3rd_test/4th_test/txt\"  # <- endre dette til riktig path!\n",
    "features_3rd = process_directory(dataset_path_3rd)\n",
    "\n",
    "# Lagre som CSV\n",
    "features_3rd.to_csv(\"3rd_test_features.csv\", index=False)\n",
    "print(\"✅ Ferdig! Lagret som '3rd_test_features.csv'\")"
   ]
  },
  {
   "cell_type": "code",
   "execution_count": null,
   "id": "5e7677ac-9424-4259-a562-607fc6583112",
   "metadata": {},
   "outputs": [],
   "source": []
  }
 ],
 "metadata": {
  "kernelspec": {
   "display_name": "Python 3 (ipykernel)",
   "language": "python",
   "name": "python3"
  },
  "language_info": {
   "codemirror_mode": {
    "name": "ipython",
    "version": 3
   },
   "file_extension": ".py",
   "mimetype": "text/x-python",
   "name": "python",
   "nbconvert_exporter": "python",
   "pygments_lexer": "ipython3",
   "version": "3.8.8"
  }
 },
 "nbformat": 4,
 "nbformat_minor": 5
}
